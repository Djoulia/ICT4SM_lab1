{
 "cells": [
  {
   "cell_type": "code",
   "execution_count": null,
   "metadata": {},
   "outputs": [],
   "source": [
    "import pymongo as pm #import MongoClient only\n",
    "import pprint # prettyprinting for json objects\n",
    "import datetime\n",
    "import matplotlib.pyplot as plt\n",
    "import numpy as np\n",
    "import pandas as pd\n",
    "import math\n",
    "\n",
    "#Database connexion\n",
    "client = pm.MongoClient('bigdatadb.polito.it',\n",
    "                        ssl=True,\n",
    "                        authSource = 'carsharing',\n",
    "                        username = 'ictts',\n",
    "                        password ='Ict4SM22!',\n",
    "                        tlsAllowInvalidCertificates=True)\n",
    "db = client['carsharing'] #Choose the DB to use\n",
    "Bookings_collection = db['PermanentBookings'] # Collection for Car2go to use"
   ]
  },
  {
   "cell_type": "code",
   "execution_count": 5,
   "metadata": {},
   "outputs": [
    {
     "data": {
      "text/plain": [
       "{'_id': ObjectId('5a71c1222ad85324efc2d4ac'),\n",
       " 'init_fuel': 59,\n",
       " 'city': 'Vancouver',\n",
       " 'walking': {'duration': -1, 'distance': -1},\n",
       " 'vendor': 'car2go',\n",
       " 'driving': {'duration': -1, 'distance': -1},\n",
       " 'final_time': -1,\n",
       " 'plate': 'CL576B',\n",
       " 'engineType': 'CE',\n",
       " 'init_time': 1517404383,\n",
       " 'vin': 'WMEFJ5DA6GK082162',\n",
       " 'smartPhoneRequired': True,\n",
       " 'interior': 'GOOD',\n",
       " 'final_fuel': -1,\n",
       " 'exterior': 'GOOD',\n",
       " 'init_date': datetime.datetime(2018, 1, 31, 5, 13, 3),\n",
       " 'final_date': -1,\n",
       " 'init_address': '1670 Pandora St, Vancouver, BC V5L 4X1',\n",
       " 'final_address': '',\n",
       " 'origin_destination': {'type': 'LineString',\n",
       "  'coordinates': [[-123.07086, 49.28314], [-1, -1]]},\n",
       " 'public_transport': {'duration': -1, 'distance': -1, 'arrival_time': -1}}"
      ]
     },
     "execution_count": 5,
     "metadata": {},
     "output_type": "execute_result"
    }
   ],
   "source": [
    "#Some queries\n",
    "\n",
    "ActiveBookings = db['ActiveBookings']\n",
    "ActiveBookings.find_one()\n",
    "res = ActiveBookings.find({\"city\":\"Vancouver\"}).sort(\"init_time\", pm.DESCENDING).limit(10)\n",
    "\n",
    "liste_res = list(res)\n",
    "liste_res[1]"
   ]
  }
 ],
 "metadata": {
  "kernelspec": {
   "display_name": "Python 3",
   "language": "python",
   "name": "python3"
  },
  "language_info": {
   "codemirror_mode": {
    "name": "ipython",
    "version": 3
   },
   "file_extension": ".py",
   "mimetype": "text/x-python",
   "name": "python",
   "nbconvert_exporter": "python",
   "pygments_lexer": "ipython3",
   "version": "3.11.9"
  }
 },
 "nbformat": 4,
 "nbformat_minor": 2
}
