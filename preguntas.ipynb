{
 "cells": [
  {
   "cell_type": "code",
   "execution_count": 1,
   "metadata": {},
   "outputs": [],
   "source": [
    "import pymongo as pm #import MongoClient only\n",
    "from pymongo import MongoClient\n",
    "import pprint # prettyprinting for json objects\n",
    "import datetime\n",
    "from datetime import datetime\n",
    "import matplotlib.pyplot as plt\n",
    "import numpy as np\n",
    "import pandas as pd\n",
    "import math\n",
    "\n",
    "#Database connexion\n",
    "client = pm.MongoClient('bigdatadb.polito.it',\n",
    "                        ssl=True,\n",
    "                        authSource = 'carsharing',\n",
    "                        username = 'ictts',\n",
    "                        password ='Ict4SM22!',\n",
    "                        tlsAllowInvalidCertificates=True)\n",
    "db = client['carsharing'] #Choose the DB to use\n",
    "Bookings_collection = db['PermanentBookings'] # Collection for Car2go to use\n"
   ]
  },
  {
   "cell_type": "code",
   "execution_count": null,
   "metadata": {},
   "outputs": [
    {
     "name": "stdout",
     "output_type": "stream",
     "text": [
      "Estimated travel time: 3.6333333333333333 minutes\n"
     ]
    }
   ],
   "source": [
    "import googlemaps\n",
    "from datetime import datetime\n",
    "\n",
    "# Initialize Google Maps client\n",
    "api_key = \"YOUR_GOOGLE_MAPS_API_KEY\"\n",
    "gmaps = googlemaps.Client(key=api_key)\n",
    "\n",
    "# Example booking data\n",
    "pickup_location = (45.4642, 9.1900)  # Milan center\n",
    "dropoff_location = (45.4706, 9.1929)\n",
    "booking_time = datetime(2023, 11, 12, 8, 30)  # Example booking time\n",
    "\n",
    "# Request traffic-aware travel time\n",
    "response = gmaps.distance_matrix(\n",
    "    origins=[pickup_location],\n",
    "    destinations=[dropoff_location],\n",
    "    mode=\"driving\",\n",
    "    departure_time=booking_time\n",
    ")\n",
    "\n",
    "# Parse response\n",
    "travel_time = response['rows'][0]['elements'][0]['duration_in_traffic']['value'] / 60  # in minutes\n",
    "print(f\"Estimated travel time: {travel_time} minutes\")\n"
   ]
  }
 ],
 "metadata": {
  "kernelspec": {
   "display_name": "Python 3",
   "language": "python",
   "name": "python3"
  },
  "language_info": {
   "codemirror_mode": {
    "name": "ipython",
    "version": 3
   },
   "file_extension": ".py",
   "mimetype": "text/x-python",
   "name": "python",
   "nbconvert_exporter": "python",
   "pygments_lexer": "ipython3",
   "version": "3.11.9"
  }
 },
 "nbformat": 4,
 "nbformat_minor": 2
}
